{
 "cells": [
  {
   "cell_type": "code",
   "execution_count": 1,
   "metadata": {},
   "outputs": [],
   "source": [
    "import sys\n",
    "sys.path.append('..')"
   ]
  },
  {
   "cell_type": "code",
   "execution_count": 2,
   "metadata": {},
   "outputs": [],
   "source": [
    "import pandas as pd\n",
    "import numpy as np\n",
    "import nltk\n",
    "from nltk.corpus import stopwords\n",
    "from nltk.tokenize import word_tokenize\n",
    "import re\n",
    "\n",
    "from sklearn.feature_extraction.text import TfidfVectorizer"
   ]
  },
  {
   "cell_type": "code",
   "execution_count": 3,
   "metadata": {},
   "outputs": [
    {
     "name": "stderr",
     "output_type": "stream",
     "text": [
      "[nltk_data] Downloading package stopwords to\n",
      "[nltk_data]     C:\\Users\\jasie\\AppData\\Roaming\\nltk_data...\n",
      "[nltk_data]   Package stopwords is already up-to-date!\n",
      "[nltk_data] Downloading package punkt to\n",
      "[nltk_data]     C:\\Users\\jasie\\AppData\\Roaming\\nltk_data...\n",
      "[nltk_data]   Package punkt is already up-to-date!\n",
      "[nltk_data] Downloading package punkt_tab to\n",
      "[nltk_data]     C:\\Users\\jasie\\AppData\\Roaming\\nltk_data...\n",
      "[nltk_data]   Package punkt_tab is already up-to-date!\n"
     ]
    },
    {
     "data": {
      "text/plain": [
       "True"
      ]
     },
     "execution_count": 3,
     "metadata": {},
     "output_type": "execute_result"
    }
   ],
   "source": [
    "nltk.download('stopwords')\n",
    "nltk.download('punkt')\n",
    "nltk.download('punkt_tab')"
   ]
  },
  {
   "cell_type": "code",
   "execution_count": 4,
   "metadata": {},
   "outputs": [],
   "source": [
    "stop_words = set(stopwords.words('english'))"
   ]
  },
  {
   "cell_type": "code",
   "execution_count": 5,
   "metadata": {},
   "outputs": [],
   "source": [
    "df = pd.read_csv('../data/Tweets.csv')"
   ]
  },
  {
   "cell_type": "code",
   "execution_count": 6,
   "metadata": {},
   "outputs": [],
   "source": [
    "X = df['text'].values"
   ]
  },
  {
   "cell_type": "code",
   "execution_count": null,
   "metadata": {},
   "outputs": [],
   "source": [
    "def preprocess_tweet(tweet):\n",
    "    tweet = tweet.lower()\n",
    "\n",
    "    # Remove URLs\n",
    "    tweet = re.sub(r\"http\\S+|www\\S+|https\\S+\", '', tweet, flags=re.MULTILINE)\n",
    "    # Remove mentions and hashtags\n",
    "    tweet = re.sub(r\"@\\w+|#\\w+\", '', tweet)\n",
    "    # Remove punctuation\n",
    "    tweet = re.sub(r\"[^\\w\\s]\", '', tweet)\n",
    "    # Remove numbers\n",
    "    tweet = re.sub(r\"[0-9]+\", '', tweet)\n",
    "\n",
    "    tokens = word_tokenize(tweet)\n",
    "    stop_words = set(stopwords.words(\"english\"))\n",
    "    tokens = [word for word in tokens if word not in stop_words]\n",
    "    return \" \".join(tokens)\n",
    "\n",
    "corpus = np.array(list(map(preprocess_tweet, X)))"
   ]
  },
  {
   "cell_type": "code",
   "execution_count": 62,
   "metadata": {},
   "outputs": [
    {
     "data": {
      "text/plain": [
       "array(['said', 'plus youve added commercials experience tacky',\n",
       "       'didnt today must mean need take another trip', ...,\n",
       "       'please bring american airlines',\n",
       "       'money change flight dont answer phones suggestions make commitment',\n",
       "       'ppl need know many seats next flight plz put us standby people next flight'],\n",
       "      dtype='<U133')"
      ]
     },
     "execution_count": 62,
     "metadata": {},
     "output_type": "execute_result"
    }
   ],
   "source": [
    "corpus"
   ]
  },
  {
   "cell_type": "code",
   "execution_count": 54,
   "metadata": {},
   "outputs": [],
   "source": [
    "vectorizer = TfidfVectorizer(max_features=200)\n",
    "X = vectorizer.fit_transform(corpus)"
   ]
  },
  {
   "cell_type": "code",
   "execution_count": 1,
   "metadata": {},
   "outputs": [
    {
     "ename": "NameError",
     "evalue": "name 'X' is not defined",
     "output_type": "error",
     "traceback": [
      "\u001b[1;31m---------------------------------------------------------------------------\u001b[0m",
      "\u001b[1;31mNameError\u001b[0m                                 Traceback (most recent call last)",
      "Cell \u001b[1;32mIn[1], line 1\u001b[0m\n\u001b[1;32m----> 1\u001b[0m \u001b[43mX\u001b[49m\n",
      "\u001b[1;31mNameError\u001b[0m: name 'X' is not defined"
     ]
    }
   ],
   "source": [
    "X"
   ]
  },
  {
   "cell_type": "code",
   "execution_count": 56,
   "metadata": {},
   "outputs": [
    {
     "data": {
      "text/plain": [
       "array(['aa', 'able', 'agent', 'agents', 'ago', 'air', 'airline',\n",
       "       'airlines', 'airport', 'already', 'also', 'amp', 'another',\n",
       "       'anything', 'awesome', 'back', 'bad', 'bag', 'baggage', 'bags',\n",
       "       'best', 'better', 'boarding', 'book', 'booked', 'booking', 'call',\n",
       "       'called', 'cancelled', 'cant', 'care', 'change', 'check',\n",
       "       'checked', 'class', 'connection', 'could', 'crew', 'customer',\n",
       "       'customers', 'day', 'days', 'delay', 'delayed', 'delays', 'dfw',\n",
       "       'didnt', 'dm', 'doesnt', 'done', 'dont', 'due', 'email', 'even',\n",
       "       'ever', 'experience', 'finally', 'find', 'first', 'fleek',\n",
       "       'fleets', 'flight', 'flighted', 'flightled', 'flightr', 'flights',\n",
       "       'flt', 'fly', 'flying', 'follow', 'free', 'gate', 'get', 'getting',\n",
       "       'give', 'go', 'going', 'good', 'got', 'great', 'guys', 'help',\n",
       "       'hold', 'home', 'hope', 'hotel', 'hour', 'hours', 'hrs', 'ill',\n",
       "       'im', 'info', 'issue', 'issues', 'ive', 'jfk', 'keep', 'know',\n",
       "       'last', 'late', 'left', 'let', 'like', 'line', 'long', 'lost',\n",
       "       'love', 'luggage', 'made', 'make', 'miles', 'min', 'mins',\n",
       "       'minutes', 'miss', 'missed', 'morning', 'much', 'need', 'never',\n",
       "       'new', 'next', 'nice', 'night', 'nothing', 'number', 'one',\n",
       "       'online', 'passengers', 'pay', 'people', 'phone', 'plane',\n",
       "       'please', 'pm', 'problems', 'put', 'really', 'rebook', 'rebooked',\n",
       "       'refund', 'reservation', 'response', 'right', 'rude', 'said',\n",
       "       'says', 'seat', 'seats', 'see', 'sent', 'service', 'since',\n",
       "       'sitting', 'someone', 'st', 'staff', 'still', 'stuck', 'sure',\n",
       "       'system', 'take', 'tell', 'thank', 'thanks', 'thats', 'think',\n",
       "       'ticket', 'tickets', 'time', 'times', 'today', 'told', 'tomorrow',\n",
       "       'tonight', 'travel', 'tried', 'trip', 'trying', 'two', 'ua',\n",
       "       'united', 'us', 'use', 'wait', 'waiting', 'want', 'way', 'weather',\n",
       "       'website', 'well', 'whats', 'wifi', 'wont', 'work', 'worst',\n",
       "       'would', 'yes', 'yet', 'youre'], dtype=object)"
      ]
     },
     "execution_count": 56,
     "metadata": {},
     "output_type": "execute_result"
    }
   ],
   "source": [
    "vectorizer.get_feature_names_out()"
   ]
  }
 ],
 "metadata": {
  "kernelspec": {
   "display_name": "Python 3",
   "language": "python",
   "name": "python3"
  },
  "language_info": {
   "codemirror_mode": {
    "name": "ipython",
    "version": 3
   },
   "file_extension": ".py",
   "mimetype": "text/x-python",
   "name": "python",
   "nbconvert_exporter": "python",
   "pygments_lexer": "ipython3",
   "version": "3.11.2"
  }
 },
 "nbformat": 4,
 "nbformat_minor": 2
}
