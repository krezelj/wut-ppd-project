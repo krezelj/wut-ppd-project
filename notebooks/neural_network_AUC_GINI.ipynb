{
 "cells": [
  {
   "cell_type": "code",
   "execution_count": 1,
   "metadata": {},
   "outputs": [],
   "source": [
    "import sys\n",
    "sys.path.append('..')"
   ]
  },
  {
   "cell_type": "code",
   "execution_count": null,
   "metadata": {},
   "outputs": [],
   "source": [
    "import pandas as pd\n",
    "import numpy as np\n",
    "import numpy.typing as npt\n",
    "\n",
    "from sklearn.model_selection import train_test_split\n",
    "from sklearn.preprocessing import LabelEncoder, OneHotEncoder,label_binarize\n",
    "from src.pipeline import preprocessor\n",
    "\n",
    "from sklearn.metrics import accuracy_score, precision_score, recall_score, f1_score, confusion_matrix, classification_report, roc_auc_score\n",
    "import matplotlib.pyplot as plt\n",
    "import seaborn as sns"
   ]
  },
  {
   "cell_type": "code",
   "execution_count": 3,
   "metadata": {},
   "outputs": [],
   "source": [
    "import torch\n",
    "import torch.optim as optim\n",
    "import torch.nn as nn\n",
    "import torch.nn.functional as F\n"
   ]
  },
  {
   "cell_type": "code",
   "execution_count": 4,
   "metadata": {},
   "outputs": [],
   "source": [
    "# Function to load and split the data\n",
    "def load_data():\n",
    "    df = pd.read_csv('../data/Tweets.csv')\n",
    "    df = df.drop(columns=['tweet_id'])\n",
    "    df_train, df_test = train_test_split(df, test_size=0.1, stratify=df[['airline_sentiment']], random_state=0)\n",
    "\n",
    "    X_train = df_train.drop(columns=['airline_sentiment', 'airline_sentiment_confidence'])\n",
    "    y_train = df_train[['airline_sentiment']]\n",
    "\n",
    "    X_test = df_test.drop(columns=['airline_sentiment', 'airline_sentiment_confidence'])\n",
    "    y_test = df_test[['airline_sentiment']]\n",
    "\n",
    "    return X_train, y_train, X_test, y_test"
   ]
  },
  {
   "cell_type": "code",
   "execution_count": 5,
   "metadata": {},
   "outputs": [],
   "source": [
    "# Load the data\n",
    "X_train, y_train, X_test, y_test = load_data()\n",
    "\n",
    "# Apply preprocessing to the training data\n",
    "X_train_processed = torch.tensor(preprocessor.fit_transform(X_train).toarray(), dtype=torch.float32)\n",
    "X_test_processed = torch.tensor(preprocessor.transform(X_test).toarray(), dtype=torch.float32)"
   ]
  },
  {
   "cell_type": "code",
   "execution_count": 6,
   "metadata": {},
   "outputs": [],
   "source": [
    "# Encode target labels\n",
    "ohe = OneHotEncoder(sparse_output=False)\n",
    "y_train_ohe = torch.tensor(ohe.fit_transform(y_train), dtype=torch.float32)\n",
    "y_test_ohe = torch.tensor(ohe.transform(y_test), dtype=torch.float32)\n",
    "\n",
    "le = LabelEncoder()\n",
    "y_train_labels = le.fit_transform(y_train.values.flatten())\n",
    "y_test_labels = le.transform(y_test.values.flatten())"
   ]
  },
  {
   "cell_type": "code",
   "execution_count": 7,
   "metadata": {},
   "outputs": [],
   "source": [
    "class FNN(nn.Module):\n",
    "    def __init__(self, input_dim, output_dim):\n",
    "        super().__init__()\n",
    "        self.fnn = nn.Sequential(\n",
    "            nn.Linear(input_dim, 64),\n",
    "            nn.ReLU(),\n",
    "            nn.Dropout(p=0.2),\n",
    "            nn.Linear(64, 64),\n",
    "            nn.ReLU(),\n",
    "            nn.Dropout(p=0.2),\n",
    "            nn.Linear(64, output_dim),\n",
    "            nn.Softmax(dim=1)\n",
    "        )\n",
    "\n",
    "    def forward(self, x):\n",
    "        if not isinstance(x, torch.Tensor):\n",
    "            x = torch.tensor(x, dtype=torch.float)\n",
    "        x = self.fnn(x)\n",
    "        return x"
   ]
  },
  {
   "cell_type": "code",
   "execution_count": 8,
   "metadata": {},
   "outputs": [],
   "source": [
    "def fit_neural_network(\n",
    "        model, optimizer, criterion,\n",
    "        X: npt.NDArray, y: npt.NDArray, epochs: int, batch_size: int):\n",
    "    \n",
    "    n_batches = np.ceil(len(X) / batch_size).astype(np.int32)\n",
    "    max_acc = 0.0\n",
    "    for epoch in range(epochs):\n",
    "        model.train()\n",
    "        print(f\"epoch {epoch+1}/{epochs}\")\n",
    "        permutation_idx = torch.randperm(X.size(0))\n",
    "        X_shuffled = X[permutation_idx]\n",
    "        y_shuffled = y[permutation_idx]\n",
    "\n",
    "        running_loss = 0.0\n",
    "        for i in range(0, X.size(0), batch_size):\n",
    "            X_batch = X_shuffled[i:i+batch_size]\n",
    "            y_batch = y_shuffled[i:i+batch_size]\n",
    "\n",
    "            outputs = model(X_batch)\n",
    "            loss = criterion(outputs, y_batch)\n",
    "\n",
    "            optimizer.zero_grad()\n",
    "            loss.backward()\n",
    "            optimizer.step()\n",
    "\n",
    "            running_loss += loss.item()\n",
    "        # print(f\"average loss: {running_loss/n_batches}\")\n",
    "\n",
    "        model.eval()\n",
    "        y_pred = np.array(torch.argmax(model(X_test_processed), dim=1))\n",
    "        f1s = f1_score(y_test_labels, y_pred, average='weighted')\n",
    "        acc = accuracy_score(y_test_labels, y_pred)\n",
    "        print(f\"f1: {f1s:.3f}\\tacc: {acc:.3f}\")\n",
    "        if acc > max_acc:\n",
    "            max_acc = acc\n",
    "            torch.save(model, 'best_model.pt')\n",
    "\n",
    "        running_loss = 0"
   ]
  },
  {
   "cell_type": "code",
   "execution_count": 9,
   "metadata": {},
   "outputs": [],
   "source": [
    "model = FNN(X_train_processed.shape[1], 3)\n",
    "optimizer = optim.Adam(model.parameters(), lr=0.0001)\n",
    "criterion = nn.CrossEntropyLoss()"
   ]
  },
  {
   "cell_type": "code",
   "execution_count": null,
   "metadata": {},
   "outputs": [],
   "source": [
    "fit_neural_network(model, optimizer, criterion, X_train_processed, y_train_ohe, epochs=500, batch_size=128)"
   ]
  },
  {
   "cell_type": "code",
   "execution_count": null,
   "metadata": {},
   "outputs": [],
   "source": [
    "model = torch.load(\"best_model.pt\", weights_only=False)\n",
    "model.eval()\n",
    "\n",
    "y_pred = np.array(torch.argmax(model(X_test_processed), dim=1))\n",
    "\n",
    "accuracy_score(y_test_labels, y_pred)\n",
    "f1_score(y_test_labels, y_pred, average='weighted')"
   ]
  },
  {
   "cell_type": "code",
   "execution_count": null,
   "metadata": {},
   "outputs": [],
   "source": [
    "# Generating a confusion matrix\n",
    "cm = confusion_matrix(y_test_labels, y_pred)\n",
    "\n",
    "# Visualizing the confusion matrix using seaborn\n",
    "plt.figure(figsize=(8,6))\n",
    "sns.heatmap(cm, annot=True, fmt='d', cmap='Blues',\n",
    "            xticklabels=le.classes_,\n",
    "            yticklabels=le.classes_)\n",
    "plt.ylabel('Actual Labels')\n",
    "plt.xlabel('Predicted Labels')\n",
    "plt.title('Confusion Matrix')\n",
    "plt.show()"
   ]
  },
  {
   "cell_type": "code",
   "execution_count": null,
   "metadata": {},
   "outputs": [],
   "source": [
    "# Predicting on the training data\n",
    "y_train_pred = model(X_train_processed)\n",
    "y_train_pred = np.array(torch.argmax(y_train_pred, dim=1))\n",
    "\n",
    "# Calculating accuracy on the training data\n",
    "train_accuracy = accuracy_score(y_train_labels, y_train_pred)\n",
    "print(f\"Accuracy on training data: {train_accuracy:.4f}\")\n",
    "\n",
    "# Predicting on the test data\n",
    "y_test_pred = model(X_test_processed)\n",
    "y_test_pred = np.array(torch.argmax(y_test_pred, dim=1))\n",
    "\n",
    "# Calculating accuracy on the test data\n",
    "test_accuracy = accuracy_score(y_test_labels, y_test_pred)\n",
    "print(f\"Accuracy on test data: {test_accuracy:.4f}\")\n",
    "\n",
    "# Generating a classification report\n",
    "print(\"\\nClassification report for the test data:\")\n",
    "print(classification_report(y_test_labels, y_test_pred, target_names=le.classes_))\n",
    "\n",
    "# Generating a confusion matrix\n",
    "cm = confusion_matrix(y_test_labels, y_test_pred)\n",
    "\n",
    "# Visualizing the confusion matrix using seaborn\n",
    "plt.figure(figsize=(8,6))\n",
    "sns.heatmap(cm, annot=True, fmt='d', cmap='Blues',\n",
    "            xticklabels=le.classes_,\n",
    "            yticklabels=le.classes_)\n",
    "plt.ylabel('Actual Labels')\n",
    "plt.xlabel('Predicted Labels')\n",
    "plt.title('Confusion Matrix')\n",
    "plt.show()\n",
    "\n",
    "# # Calculating AUC for multi-class classification\n",
    "# y_test_prob = clf.predict_proba(X_test_processed)\n",
    "\n",
    "# auc = roc_auc_score(y_test_processed, y_test_prob, multi_class='ovr')\n",
    "# print(f\"AUC (One-vs-Rest) on test data: {auc:.4f}\")\n"
   ]
  },
  {
   "cell_type": "markdown",
   "metadata": {},
   "source": [
    "# Area under the curve (AUC)"
   ]
  },
  {
   "cell_type": "code",
   "execution_count": 50,
   "metadata": {},
   "outputs": [],
   "source": [
    "model.eval()\n",
    "\n",
    "with torch.no_grad():\n",
    "    y_pred_probs = model(X_test_processed) \n",
    "\n",
    "y_pred_probs = y_pred_probs.cpu().numpy()  "
   ]
  },
  {
   "cell_type": "code",
   "execution_count": 55,
   "metadata": {},
   "outputs": [],
   "source": [
    "\n",
    "\n",
    "num_classes = 3\n",
    "y_test_onehot = label_binarize(y_test_labels, classes=[0, 1, 2])  "
   ]
  },
  {
   "cell_type": "code",
   "execution_count": null,
   "metadata": {},
   "outputs": [],
   "source": [
    "\n",
    "\n",
    "auc_ovr_weighted = roc_auc_score(y_test_onehot, y_pred_probs, multi_class=\"ovr\", average=\"weighted\")\n",
    "print(\"Weighted One-vs-Rest AUC:\", auc_ovr_weighted)"
   ]
  },
  {
   "cell_type": "markdown",
   "metadata": {},
   "source": [
    "# Gini Coefficient"
   ]
  },
  {
   "cell_type": "code",
   "execution_count": null,
   "metadata": {},
   "outputs": [],
   "source": [
    "gini_ovr_weighted = 2 * auc_ovr_weighted - 1\n",
    "print(\"Weighted One-vs-Rest Gini:\", gini_ovr_weighted)"
   ]
  },
  {
   "cell_type": "code",
   "execution_count": null,
   "metadata": {},
   "outputs": [],
   "source": [
    "auc_per_class = roc_auc_score(y_test_onehot, y_pred_probs, multi_class=\"ovr\", average=None)\n",
    "\n",
    "gini_per_class = 2 * auc_per_class - 1\n",
    "\n",
    "for i, (auc_val, gini_val) in enumerate(zip(auc_per_class, gini_per_class)):\n",
    "    print(f\"Class {i}: AUC={auc_val:.3f}, Gini={gini_val:.3f}\")"
   ]
  }
 ],
 "metadata": {
  "kernelspec": {
   "display_name": "Python 3",
   "language": "python",
   "name": "python3"
  },
  "language_info": {
   "codemirror_mode": {
    "name": "ipython",
    "version": 3
   },
   "file_extension": ".py",
   "mimetype": "text/x-python",
   "name": "python",
   "nbconvert_exporter": "python",
   "pygments_lexer": "ipython3",
   "version": "3.10.10"
  }
 },
 "nbformat": 4,
 "nbformat_minor": 2
}
