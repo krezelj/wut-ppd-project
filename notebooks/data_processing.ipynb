{
 "cells": [
  {
   "cell_type": "markdown",
   "metadata": {},
   "source": [
    "### Things to do\n",
    "#### General Notes\n",
    "- `airline_sentiment` and possibly `airline_sentiment_confidence` are target columns (the latter cannot be in traning data)\n",
    "- Remove instance of `\"@airline\"` tags from text \n",
    "\n",
    "####  How to handle each column\n",
    "**Numerical Columns**\n",
    "- `negativereason_confidence` -- fill missing data with 0\n",
    "- `retweet_count` -- remove, almost 100% is just 0\n",
    "\n",
    "**Categorical Columns**\n",
    "- `negativereason` -- one hot encode top K reasons +1 column for \"other\"\n",
    "- `airline` -- remove or one hot encode with \"other\" column\n",
    "- `airline_sentiment_gold` -- remove, almost 100% missing data\n",
    "- `name` -- remove, unique data\n",
    "- `negative_reason_gold` -- remove, almost 100% missing data\n",
    "- `tweet_location` -- remove or one hot encode with \"other\" column\n",
    "\n",
    "**Other Columns**\n",
    "- `tweet_coord` -- remove, almost 100% missing data\n",
    "- `user_timezone` -- remove, a lot of missing and correlates with location\n",
    "- `tweet_created` -- convert to columns: day of year (sin/cos), day of week, time of day (sin/cos)\n",
    "- `text` -- sklearn.feature_extraction.text -> CountVectorizer (?)\n"
   ]
  },
  {
   "cell_type": "code",
   "execution_count": 1,
   "metadata": {},
   "outputs": [],
   "source": [
    "import sys\n",
    "sys.path.append('..')"
   ]
  },
  {
   "cell_type": "code",
   "execution_count": 2,
   "metadata": {},
   "outputs": [
    {
     "name": "stderr",
     "output_type": "stream",
     "text": [
      "[nltk_data] Downloading package stopwords to\n",
      "[nltk_data]     C:\\Users\\jasie\\AppData\\Roaming\\nltk_data...\n",
      "[nltk_data]   Package stopwords is already up-to-date!\n",
      "[nltk_data] Downloading package punkt to\n",
      "[nltk_data]     C:\\Users\\jasie\\AppData\\Roaming\\nltk_data...\n",
      "[nltk_data]   Package punkt is already up-to-date!\n",
      "[nltk_data] Downloading package punkt_tab to\n",
      "[nltk_data]     C:\\Users\\jasie\\AppData\\Roaming\\nltk_data...\n",
      "[nltk_data]   Package punkt_tab is already up-to-date!\n"
     ]
    }
   ],
   "source": [
    "import pandas as pd\n",
    "import numpy as np\n",
    "\n",
    "from sklearn.model_selection import train_test_split\n",
    "from sklearn.pipeline import Pipeline\n",
    "from sklearn.impute import SimpleImputer\n",
    "from sklearn.compose import ColumnTransformer\n",
    "from sklearn.preprocessing import OneHotEncoder\n",
    "\n",
    "from src.transformers import *"
   ]
  },
  {
   "cell_type": "code",
   "execution_count": 3,
   "metadata": {},
   "outputs": [],
   "source": [
    "def load_data():\n",
    "    df = pd.read_csv('../data/Tweets.csv')\n",
    "    df = df.drop(columns=['tweet_id'])\n",
    "\n",
    "    df_train, df_test = train_test_split(df, test_size=0.1, stratify=df[['airline_sentiment']], random_state=0)\n",
    "\n",
    "    X_train = df_train.drop(columns=['airline_sentiment', 'airline_sentiment_confidence'])\n",
    "    y_train = df_train[['airline_sentiment']]\n",
    "\n",
    "    X_test = df_test.drop(columns=['airline_sentiment', 'airline_sentiment_confidence'])\n",
    "    y_test = df_test[['airline_sentiment']]\n",
    "\n",
    "    return X_train, y_train, X_test, y_test"
   ]
  },
  {
   "cell_type": "code",
   "execution_count": 4,
   "metadata": {},
   "outputs": [],
   "source": [
    "X_train, y_train, X_test, y_test = load_data()"
   ]
  },
  {
   "cell_type": "code",
   "execution_count": 31,
   "metadata": {},
   "outputs": [],
   "source": [
    "columns_to_drop = ['retweet_count', 'airline_sentiment_gold', 'negativereason_gold', 'tweet_coord', 'name', 'user_timezone', 'negativereason', 'negativereason_confidence']\n",
    "columns_to_fill_zero = []\n",
    "columns_to_fill_unknown = ['tweet_location']\n",
    "columns_to_ohe = ['airline', 'tweet_location']\n",
    "\n",
    "column_order_after_transform = \\\n",
    "    columns_to_fill_zero \\\n",
    "    + columns_to_fill_unknown \\\n",
    "    + ['airline', 'text', 'tweet_created']\n",
    "column_idx = lambda c : column_order_after_transform.index(c)\n",
    "\n",
    "preprocessor = Pipeline(steps=[\n",
    "    ('drop', DropColumnTransformer(columns_to_drop)),\n",
    "    ('fill_missing', \n",
    "        ColumnTransformer(\n",
    "            transformers=[\n",
    "                ('fill_zero', SimpleImputer(strategy='constant', fill_value=0), columns_to_fill_zero),\n",
    "                ('fill_other', SimpleImputer(strategy='constant', fill_value='Unknown'), columns_to_fill_unknown),\n",
    "                \n",
    "            ], \n",
    "            remainder='passthrough')),\n",
    "    ('encode', ColumnTransformer(transformers=[\n",
    "        ('ohe', OneHotEncoder(\n",
    "            handle_unknown='infrequent_if_exist', \n",
    "            max_categories=10, \n",
    "            sparse_output=False), \n",
    "            list(map(column_idx, columns_to_ohe))),\n",
    "        ('time', TimeTransformer(), list(map(column_idx, ['tweet_created']))),\n",
    "        ('text', TextTransformer(), list(map(column_idx, ['text'])))\n",
    "    ],\n",
    "    remainder='passthrough'))\n",
    "])"
   ]
  },
  {
   "cell_type": "code",
   "execution_count": 32,
   "metadata": {},
   "outputs": [],
   "source": [
    "X_train_processed = preprocessor.fit_transform(X_train)"
   ]
  },
  {
   "cell_type": "code",
   "execution_count": 33,
   "metadata": {},
   "outputs": [
    {
     "data": {
      "text/plain": [
       "(13176, 221)"
      ]
     },
     "execution_count": 33,
     "metadata": {},
     "output_type": "execute_result"
    }
   ],
   "source": [
    "X_train_processed.shape"
   ]
  },
  {
   "cell_type": "code",
   "execution_count": 34,
   "metadata": {},
   "outputs": [],
   "source": [
    "from sklearn.svm import SVC\n",
    "from sklearn.tree import DecisionTreeClassifier\n",
    "from sklearn.ensemble import RandomForestClassifier\n",
    "from xgboost import XGBClassifier\n",
    "\n",
    "from sklearn.preprocessing import LabelEncoder"
   ]
  },
  {
   "cell_type": "code",
   "execution_count": 35,
   "metadata": {},
   "outputs": [
    {
     "name": "stderr",
     "output_type": "stream",
     "text": [
      "C:\\Users\\jasie\\AppData\\Roaming\\Python\\Python311\\site-packages\\sklearn\\preprocessing\\_label.py:110: DataConversionWarning: A column-vector y was passed when a 1d array was expected. Please change the shape of y to (n_samples, ), for example using ravel().\n",
      "  y = column_or_1d(y, warn=True)\n",
      "C:\\Users\\jasie\\AppData\\Roaming\\Python\\Python311\\site-packages\\sklearn\\preprocessing\\_label.py:129: DataConversionWarning: A column-vector y was passed when a 1d array was expected. Please change the shape of y to (n_samples, ), for example using ravel().\n",
      "  y = column_or_1d(y, dtype=self.classes_.dtype, warn=True)\n"
     ]
    }
   ],
   "source": [
    "le = LabelEncoder()\n",
    "y_train_processed = le.fit_transform(y_train)\n",
    "y_test_processed = le.transform(y_test)"
   ]
  },
  {
   "cell_type": "code",
   "execution_count": 36,
   "metadata": {},
   "outputs": [],
   "source": [
    "clf = XGBClassifier(n_estimators=100)"
   ]
  },
  {
   "cell_type": "code",
   "execution_count": null,
   "metadata": {},
   "outputs": [],
   "source": [
    "clf.fit(X_train_processed, y_train_processed)"
   ]
  },
  {
   "cell_type": "code",
   "execution_count": 38,
   "metadata": {},
   "outputs": [],
   "source": [
    "y_train_pred = clf.predict(X_train_processed)"
   ]
  },
  {
   "cell_type": "code",
   "execution_count": 39,
   "metadata": {},
   "outputs": [
    {
     "data": {
      "text/plain": [
       "0.8363691560412871"
      ]
     },
     "execution_count": 39,
     "metadata": {},
     "output_type": "execute_result"
    }
   ],
   "source": [
    "np.mean(y_train_pred == y_train_processed)"
   ]
  },
  {
   "cell_type": "code",
   "execution_count": 40,
   "metadata": {},
   "outputs": [],
   "source": [
    "X_test_processed = preprocessor.fit_transform(X_test)"
   ]
  },
  {
   "cell_type": "code",
   "execution_count": 41,
   "metadata": {},
   "outputs": [],
   "source": [
    "y_test_pred = clf.predict(X_test_processed)"
   ]
  },
  {
   "cell_type": "code",
   "execution_count": 42,
   "metadata": {},
   "outputs": [
    {
     "data": {
      "text/plain": [
       "0.6379781420765027"
      ]
     },
     "execution_count": 42,
     "metadata": {},
     "output_type": "execute_result"
    }
   ],
   "source": [
    "np.mean(y_test_pred == y_test_processed)"
   ]
  },
  {
   "cell_type": "code",
   "execution_count": 43,
   "metadata": {},
   "outputs": [],
   "source": [
    "from sklearn.metrics import confusion_matrix\n",
    "import seaborn as sns"
   ]
  },
  {
   "cell_type": "code",
   "execution_count": 44,
   "metadata": {},
   "outputs": [
    {
     "data": {
      "text/plain": [
       "<Axes: >"
      ]
     },
     "execution_count": 44,
     "metadata": {},
     "output_type": "execute_result"
    },
    {
     "data": {
      "image/png": "[encoded data removed]",
      "text/plain": [
       "<Figure size 640x480 with 2 Axes>"
      ]
     },
     "metadata": {},
     "output_type": "display_data"
    }
   ],
   "source": [
    "sns.heatmap(confusion_matrix(y_test_pred, y_test_processed), annot=True)"
   ]
  }
 ],
 "metadata": {
  "kernelspec": {
   "display_name": "Python 3",
   "language": "python",
   "name": "python3"
  },
  "language_info": {
   "codemirror_mode": {
    "name": "ipython",
    "version": 3
   },
   "file_extension": ".py",
   "mimetype": "text/x-python",
   "name": "python",
   "nbconvert_exporter": "python",
   "pygments_lexer": "ipython3",
   "version": "3.11.2"
  }
 },
 "nbformat": 4,
 "nbformat_minor": 2
}
